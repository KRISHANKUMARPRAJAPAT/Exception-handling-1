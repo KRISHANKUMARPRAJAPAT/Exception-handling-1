{
 "cells": [
  {
   "cell_type": "markdown",
   "id": "57076e56-27b1-40fb-a189-55b860237915",
   "metadata": {},
   "source": [
    "## Q1. What is an Exception in python? Write the difference between Exceptions and Syntax errors.\n"
   ]
  },
  {
   "cell_type": "markdown",
   "id": "3472d7c4-c4d9-4ac0-b3bc-f281367ee76f",
   "metadata": {},
   "source": [
    "#Ans: 1 \n",
    "\n",
    "In Python, an exception is a type of error that occurs during the execution of a program. When an exception occurs, it interrupts the normal flow of the program and can cause the program to terminate if it is not handled properly.\n",
    "\n",
    "\n",
    "**Difference between Exceptions and Syntax errors**\n",
    "\n",
    "The main difference between exceptions and syntax errors in Python is that syntax errors are errors in the structure of the code that prevent it from being compiled, while exceptions are errors that occur during the execution of a program when something unexpected happens.\n",
    "\n",
    "\n",
    " **Syntax error:**\n",
    " Syntax errors occur when the Python interpreter encounters code that is not valid Python syntax. These errors prevent the code from being compiled and the program from being run. Some common examples of syntax errors include missing parentheses, unmatched quotes, and invalid keywords.\n",
    " \n",
    " **Exceptions errors:**\n",
    "Exceptions, on the other hand, occur during the execution of a program when something unexpected happens, such as trying to divide by zero, accessing an invalid index in a list, or opening a file that does not exist. Exceptions can be caused by a wide variety of factors, including user input, network issues, or programming errors."
   ]
  },
  {
   "cell_type": "markdown",
   "id": "45641f87-2194-480a-b1c8-1eacece32f69",
   "metadata": {},
   "source": [
    "## Q2. What happens when an exception is not handled? Explain with an example.\n"
   ]
  },
  {
   "cell_type": "markdown",
   "id": "dbbf89b3-c3d1-4eed-9819-7e24db8fcbbd",
   "metadata": {},
   "source": [
    "#Ans: 2\n",
    "\n",
    "When a exception is not handled in a Python program, it will cause the program to terminate and display an error message indicating the type of exception and where it occurred in the code. This can make it difficult to determine the cause of the error and fix the problem.\n",
    "\n",
    "\n",
    "To handle this exception and prevent the program from terminating, we can wrap the code that might raise the exception in a try-except block like this:"
   ]
  },
  {
   "cell_type": "code",
   "execution_count": 10,
   "id": "67bfb86c-cdd3-4898-aa04-19ac678f9722",
   "metadata": {},
   "outputs": [],
   "source": [
    "import logging\n",
    "logging.basicConfig(filename = 'Exception_error.file' , level = logging.ERROR)\n",
    "\n",
    "try :\n",
    "    with open('krish.txt', 'w') as f:\n",
    "        f.write(\"there are 345 students in data science master program\")\n",
    "except FileNotFoundError  as e :\n",
    "    logging.error('FileNotFoundError {}'.format(e))\n",
    "    "
   ]
  },
  {
   "cell_type": "markdown",
   "id": "c4e31fa0-d4e8-41e5-8e09-5882101efbb5",
   "metadata": {},
   "source": [
    "## Q3. Which python statements are used to catch and handle exceptions? Explain with an example.\n"
   ]
  },
  {
   "cell_type": "markdown",
   "id": "9352b8fc-5b05-4c1b-a5eb-dd4700d15664",
   "metadata": {},
   "source": [
    "#Ans: 3\n",
    "\n",
    "In Python, the 'try' and 'except' statements are used to catch and handle exceptions. The 'try' statement contains the code that might raise an exception, while the 'except' statement contains the code to handle the exception if it occurs."
   ]
  },
  {
   "cell_type": "code",
   "execution_count": 23,
   "id": "cc4587dc-83db-41e7-be1a-181f02911816",
   "metadata": {},
   "outputs": [],
   "source": [
    "#Here is an example:\n",
    "try :\n",
    "    d = {'key1' : 'ramlal', 'pass' : [1,2,3,4]}\n",
    "    logging.info(d[12])\n",
    "    \n",
    "except KeyError as e :\n",
    "    logging.error('In the code we found KeyError {}'.format(e))\n",
    "    "
   ]
  },
  {
   "cell_type": "markdown",
   "id": "246df61c-2717-4332-8201-bab2ff85efc0",
   "metadata": {},
   "source": [
    "## Q4. Explain with an example:\n",
    "    A. try and else\n",
    "    B. finally \n",
    "    C. raise"
   ]
  },
  {
   "cell_type": "markdown",
   "id": "9bb6a1bb-abd8-4f82-bab5-11353820bb68",
   "metadata": {},
   "source": [
    "#Ans: 4\n",
    "\n",
    "**(A) try and else:**\n",
    "\n",
    "The try and else statements in Python are used to handle exceptions that may occur in a block of code. The try block contains the code that is to be executed and the else block contains the code that is executed if the try block is executed without any exceptions being raised."
   ]
  },
  {
   "cell_type": "code",
   "execution_count": 32,
   "id": "4191f77f-84aa-4138-b475-ebb1d6879de7",
   "metadata": {},
   "outputs": [
    {
     "name": "stdin",
     "output_type": "stream",
     "text": [
      "Enter a number:  755\n",
      "Enter another number:  5\n"
     ]
    },
    {
     "name": "stdout",
     "output_type": "stream",
     "text": [
      "Result is: 151.0\n"
     ]
    }
   ],
   "source": [
    "try:\n",
    "    x = int(input('Enter a number: '))\n",
    "    y = int(input('Enter another number: '))\n",
    "    result = x / y\n",
    "except ValueError:\n",
    "    print('Invalid input, please enter a number.')\n",
    "else:\n",
    "    print('Result is:', result)\n"
   ]
  },
  {
   "cell_type": "markdown",
   "id": "80a0940d-18d1-45d1-b017-271f98cd8a04",
   "metadata": {},
   "source": [
    "**(B)finally:**\n",
    "\n",
    "finally block is used in conjunction with the try block to define a block of code that will be executed regardless of whether an exception is raised or not. The finally block is typically used to perform cleanup actions, such as closing a file or a database connection, that should always be done, regardless of whether an exception occurred or not."
   ]
  },
  {
   "cell_type": "code",
   "execution_count": 6,
   "id": "2996d440-709a-4679-a859-32db6c9988eb",
   "metadata": {},
   "outputs": [
    {
     "name": "stdout",
     "output_type": "stream",
     "text": [
      "Finally block executed.\n"
     ]
    }
   ],
   "source": [
    "try:\n",
    "    a = 5 / 2\n",
    "except ZeroDivisionError:\n",
    "    print(\"Cannot divide by zero.\")\n",
    "finally:\n",
    "    print(\"Finally block executed.\")\n"
   ]
  },
  {
   "cell_type": "markdown",
   "id": "754ba5d4-10a1-438a-9838-b8e2f4c8f779",
   "metadata": {},
   "source": [
    "**(C)raise:**\n",
    "\n",
    "the 'raise' keyword is a useful tool for raising exceptions manually when needed, allowing for more fine-grained control over error handling and providing more information about the nature of the error."
   ]
  },
  {
   "cell_type": "code",
   "execution_count": 7,
   "id": "fd93e46d-7695-4c22-a6fe-1e523f78534e",
   "metadata": {},
   "outputs": [
    {
     "name": "stdout",
     "output_type": "stream",
     "text": [
      "Cannot divide by zero.\n"
     ]
    }
   ],
   "source": [
    "def divide(a, b):\n",
    "    if b == 0:\n",
    "        raise ZeroDivisionError(\"Cannot divide by zero.\")\n",
    "    return a / b\n",
    "\n",
    "try:\n",
    "    result = divide(10, 0)\n",
    "except ZeroDivisionError as e:\n",
    "    print(e)\n"
   ]
  },
  {
   "cell_type": "markdown",
   "id": "96a1c927-5762-46a5-84a4-532f7b0cf36d",
   "metadata": {},
   "source": [
    "## Q5. What are Custom Exceptions in python? Why do we need Custom Exceptions? Explain with an example.\n"
   ]
  },
  {
   "cell_type": "markdown",
   "id": "30ee34f7-67ca-4b88-9635-e50d48198e24",
   "metadata": {},
   "source": [
    "#Ans: 5\n",
    "\n",
    "custom exceptions provide a way to handle errors in a more targeted and meaningful way. By defining your own exceptions, you can provide more specific error messages, handle errors more effectively, and make your code more readable and maintainable\n",
    "\n",
    "Custom exceptions can be useful for several reasons:\n",
    "\n",
    "**Provide more specific error messages:** By creating a custom exception, you can provide more specific and meaningful error messages to users or developers. This can help them understand what went wrong and how to fix it.\n",
    "\n",
    "**Handle errors more effectively:** Custom exceptions can help you handle errors more effectively by allowing you to catch and handle specific types of errors. This can help you recover from errors more gracefully and provide a better user experience.\n",
    "\n",
    "**Make code more readable and maintainable:** By defining custom exceptions, you can make your code more readable and maintainable. You can use the custom exceptions in your code to provide more meaningful and descriptive error messages, making it easier for others to understand and work with your code."
   ]
  },
  {
   "cell_type": "code",
   "execution_count": 8,
   "id": "c132bce2-d060-4c9d-9c7c-3dfd8931573d",
   "metadata": {},
   "outputs": [],
   "source": [
    "class CustomException(Exception):\n",
    "    def __init__(self, message):\n",
    "        super().__init__(message)\n",
    "        self.message = message"
   ]
  },
  {
   "cell_type": "markdown",
   "id": "a5df5305-a994-4971-93cd-5e53883aa61b",
   "metadata": {},
   "source": [
    "## Q6. Create a custom exception class. Use this class to handle an exception."
   ]
  },
  {
   "cell_type": "code",
   "execution_count": 19,
   "id": "a9550fb0-86b0-4818-801b-9fc0c16ea8fb",
   "metadata": {},
   "outputs": [],
   "source": [
    "#Ans: 6\n"
   ]
  },
  {
   "cell_type": "code",
   "execution_count": 27,
   "id": "d03e5d61-8fe4-4048-a636-312248f828d4",
   "metadata": {},
   "outputs": [
    {
     "name": "stdin",
     "output_type": "stream",
     "text": [
      "Enter your price 35000\n"
     ]
    },
    {
     "name": "stdout",
     "output_type": "stream",
     "text": [
      "For Midrange Smartphone your price is perfectly fine\n"
     ]
    }
   ],
   "source": [
    "def Mobile_price(price):\n",
    "    if price < 5000 :\n",
    "        raise Mob_purchase(\"For Midrange Smartphone your price is very very low\")\n",
    "        \n",
    "    elif price >= 50000 :\n",
    "        raise Mob_purchase(\"For Midrange Smartphone your price is very very high\")\n",
    "    else :\n",
    "        print(\"For Midrange Smartphone your price is perfectly fine\")\n",
    "try :\n",
    "    price = int(input(\"Enter your price\"))\n",
    "    Mobile_price(price)\n",
    "    \n",
    "except Mob_purchase as e :\n",
    "    print(e)"
   ]
  },
  {
   "cell_type": "code",
   "execution_count": null,
   "id": "8bf2a941-e883-41e7-b3f8-014fd5469481",
   "metadata": {},
   "outputs": [],
   "source": []
  }
 ],
 "metadata": {
  "kernelspec": {
   "display_name": "Python 3 (ipykernel)",
   "language": "python",
   "name": "python3"
  },
  "language_info": {
   "codemirror_mode": {
    "name": "ipython",
    "version": 3
   },
   "file_extension": ".py",
   "mimetype": "text/x-python",
   "name": "python",
   "nbconvert_exporter": "python",
   "pygments_lexer": "ipython3",
   "version": "3.10.8"
  }
 },
 "nbformat": 4,
 "nbformat_minor": 5
}
